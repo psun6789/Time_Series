{
 "cells": [
  {
   "cell_type": "code",
   "execution_count": 2,
   "id": "c435fda1",
   "metadata": {},
   "outputs": [],
   "source": [
    "#Implementation of RNN(LSTM) Deep Learning for monthly time series data\n",
    "# from Januar 2010 to march 2022"
   ]
  },
  {
   "cell_type": "code",
   "execution_count": 3,
   "id": "b3535ed6",
   "metadata": {},
   "outputs": [],
   "source": [
    "# neural network approach to time series forecasting using extreme learning machines."
   ]
  },
  {
   "cell_type": "code",
   "execution_count": 25,
   "id": "425c0ecc",
   "metadata": {},
   "outputs": [
    {
     "name": "stdout",
     "output_type": "stream",
     "text": [
      "2.8.0\n"
     ]
    },
    {
     "name": "stderr",
     "output_type": "stream",
     "text": [
      "<ipython-input-25-67ebe460149d>:22: FutureWarning: The pandas.datetime class is deprecated and will be removed from pandas in a future version. Import from datetime module instead.\n",
      "  from pandas import datetime\n"
     ]
    }
   ],
   "source": [
    "# import libraries\n",
    "import tensorflow as tf\n",
    "print(tf.__version__)\n",
    "from sklearn import datasets\n",
    "from sklearn import preprocessing\n",
    "import numpy as np\n",
    "import pandas as pd\n",
    "\n",
    "%matplotlib inline\n",
    "import matplotlib.pyplot as plt\n",
    "from matplotlib import ticker\n",
    "import seaborn as sns\n",
    "from statsmodels.graphics.tsaplots import plot_acf, plot_pacf, month_plot\n",
    "from statsmodels.tsa.stattools import kpss, adfuller\n",
    "from statsmodels.tsa.seasonal import STL\n",
    "\n",
    "from statsmodels.tsa.seasonal import seasonal_decompose\n",
    "\n",
    "from pylab import rcParams\n",
    "from platform import python_version\n",
    "import pandas as pd\n",
    "from pandas import datetime"
   ]
  },
  {
   "cell_type": "code",
   "execution_count": 33,
   "id": "b5dbc007",
   "metadata": {},
   "outputs": [
    {
     "data": {
      "text/plain": [
       "Month\n",
       "2010-01-01    2624\n",
       "2010-02-01    2336\n",
       "2010-03-01    2432\n",
       "2010-04-01    2126\n",
       "2010-05-01    2095\n",
       "              ... \n",
       "2021-11-01    2757\n",
       "2021-12-01    2871\n",
       "2022-01-01    2821\n",
       "2022-02-01    2680\n",
       "2022-03-01    2820\n",
       "Name: EG_(GWh), Length: 147, dtype: int64"
      ]
     },
     "execution_count": 33,
     "metadata": {},
     "output_type": "execute_result"
    }
   ],
   "source": [
    "# df = pd.read_csv(\"Monthly_Timeseries.csv\", index_col='Month', parse_dates=True)\n",
    "# df.index.freq = 'MS'\n",
    "\n",
    "def parser(x):\n",
    "    return datetime.strptime(x,\"%Y-%m-%d\")\n",
    "data = pd.read_csv('Monthly_Timeseries.csv', header = 0, parse_dates=[0],index_col=0,squeeze=True, date_parser=parser)\n",
    "data"
   ]
  },
  {
   "cell_type": "code",
   "execution_count": 34,
   "id": "7f2824f9",
   "metadata": {},
   "outputs": [
    {
     "data": {
      "text/plain": [
       "0"
      ]
     },
     "execution_count": 34,
     "metadata": {},
     "output_type": "execute_result"
    }
   ],
   "source": [
    "data.isnull().sum()"
   ]
  },
  {
   "cell_type": "code",
   "execution_count": 28,
   "id": "69e0158d",
   "metadata": {},
   "outputs": [],
   "source": [
    "# print(df.head(5),\"\\n\")\n",
    "# print(df.tail(5),\"\\n\")"
   ]
  },
  {
   "cell_type": "code",
   "execution_count": 29,
   "id": "1e30d392",
   "metadata": {},
   "outputs": [
    {
     "data": {
      "image/png": "[encoded data removed]",
      "text/plain": [
       "<Figure size 432x288 with 1 Axes>"
      ]
     },
     "metadata": {
      "needs_background": "light"
     },
     "output_type": "display_data"
    }
   ],
   "source": [
    "import matplotlib.pyplot as plt\n",
    "%matplotlib inline\n",
    "data = data.astype(float)\n",
    "data\n",
    "data.plot(style='k.',ylabel='Sales')\n",
    "plt.show()"
   ]
  },
  {
   "cell_type": "code",
   "execution_count": 31,
   "id": "b928a7a0",
   "metadata": {},
   "outputs": [
    {
     "data": {
      "text/plain": [
       "array([[2624.],\n",
       "       [2336.],\n",
       "       [2432.],\n",
       "       [2126.],\n",
       "       [2095.],\n",
       "       [1990.],\n",
       "       [2041.],\n",
       "       [2023.],\n",
       "       [2069.],\n",
       "       [2201.],\n",
       "       [2399.],\n",
       "       [2653.],\n",
       "       [2545.],\n",
       "       [2214.],\n",
       "       [2331.],\n",
       "       [2050.],\n",
       "       [2096.],\n",
       "       [1983.],\n",
       "       [1992.],\n",
       "       [2028.],\n",
       "       [2009.],\n",
       "       [2187.],\n",
       "       [2260.],\n",
       "       [2433.],\n",
       "       [2905.],\n",
       "       [2580.],\n",
       "       [2515.],\n",
       "       [2436.],\n",
       "       [2341.],\n",
       "       [2174.],\n",
       "       [2191.],\n",
       "       [2272.],\n",
       "       [2280.],\n",
       "       [2447.],\n",
       "       [2615.],\n",
       "       [2802.],\n",
       "       [2423.],\n",
       "       [2194.],\n",
       "       [2386.],\n",
       "       [2153.],\n",
       "       [2104.],\n",
       "       [1917.],\n",
       "       [2032.],\n",
       "       [2010.],\n",
       "       [2006.],\n",
       "       [2229.],\n",
       "       [2250.],\n",
       "       [2368.],\n",
       "       [2438.],\n",
       "       [2212.],\n",
       "       [2336.],\n",
       "       [2086.],\n",
       "       [2104.],\n",
       "       [1975.],\n",
       "       [2038.],\n",
       "       [2036.],\n",
       "       [2057.],\n",
       "       [2212.],\n",
       "       [2276.],\n",
       "       [2424.],\n",
       "       [2498.],\n",
       "       [2277.],\n",
       "       [2397.],\n",
       "       [2156.],\n",
       "       [2193.],\n",
       "       [2054.],\n",
       "       [2102.],\n",
       "       [2088.],\n",
       "       [2118.],\n",
       "       [2279.],\n",
       "       [2353.],\n",
       "       [2445.],\n",
       "       [2503.],\n",
       "       [2389.],\n",
       "       [2438.],\n",
       "       [2287.],\n",
       "       [2194.],\n",
       "       [2076.],\n",
       "       [2136.],\n",
       "       [2180.],\n",
       "       [2154.],\n",
       "       [2298.],\n",
       "       [2439.],\n",
       "       [2490.],\n",
       "       [2586.],\n",
       "       [2359.],\n",
       "       [2510.],\n",
       "       [2258.],\n",
       "       [2239.],\n",
       "       [2138.],\n",
       "       [2200.],\n",
       "       [2203.],\n",
       "       [2202.],\n",
       "       [2361.],\n",
       "       [2496.],\n",
       "       [2603.],\n",
       "       [2656.],\n",
       "       [2397.],\n",
       "       [2618.],\n",
       "       [2380.],\n",
       "       [2306.],\n",
       "       [2175.],\n",
       "       [2251.],\n",
       "       [2255.],\n",
       "       [2247.],\n",
       "       [2439.],\n",
       "       [2526.],\n",
       "       [2769.],\n",
       "       [2700.],\n",
       "       [2409.],\n",
       "       [2529.],\n",
       "       [2457.],\n",
       "       [2383.],\n",
       "       [2245.],\n",
       "       [2311.],\n",
       "       [2319.],\n",
       "       [2318.],\n",
       "       [2556.],\n",
       "       [2689.],\n",
       "       [2733.],\n",
       "       [2791.],\n",
       "       [2673.],\n",
       "       [2693.],\n",
       "       [2218.],\n",
       "       [2240.],\n",
       "       [2232.],\n",
       "       [2371.],\n",
       "       [2370.],\n",
       "       [2385.],\n",
       "       [2599.],\n",
       "       [2635.],\n",
       "       [2846.],\n",
       "       [2835.],\n",
       "       [2576.],\n",
       "       [2719.],\n",
       "       [2496.],\n",
       "       [2520.],\n",
       "       [2375.],\n",
       "       [2469.],\n",
       "       [2462.],\n",
       "       [2466.],\n",
       "       [2632.],\n",
       "       [2757.],\n",
       "       [2871.],\n",
       "       [2821.],\n",
       "       [2680.],\n",
       "       [2820.]])"
      ]
     },
     "execution_count": 31,
     "metadata": {},
     "output_type": "execute_result"
    }
   ],
   "source": [
    "from sklearn.metrics import mean_squared_error\n",
    "import math\n",
    "import numpy as np\n",
    "from scipy.linalg import pinv2\n",
    "data = np.array(data)\n",
    "data = np.reshape(data, (-1, 1))\n",
    "data"
   ]
  },
  {
   "cell_type": "code",
   "execution_count": 35,
   "id": "91a4f4f0",
   "metadata": {},
   "outputs": [],
   "source": [
    "# df.isnull().sum()"
   ]
  },
  {
   "cell_type": "code",
   "execution_count": 39,
   "id": "ec009dc8",
   "metadata": {},
   "outputs": [],
   "source": [
    "m = 12\n",
    "per = (111 - m)/147\n",
    "size = int(len(data) * per)\n",
    "d_train, d_test = data[0:size], data[size:len(data)]\n",
    "mean_train = np.mean(d_train)\n",
    "sd_train = np.std(d_train)\n",
    "d_train = (d_train-mean_train)/sd_train\n",
    "d_test = (d_test-mean_train)/sd_train"
   ]
  },
  {
   "cell_type": "code",
   "execution_count": 40,
   "id": "daf02516",
   "metadata": {},
   "outputs": [],
   "source": [
    "# from statsmodels.tsa.seasonal import seasonal_decompose"
   ]
  },
  {
   "cell_type": "code",
   "execution_count": 41,
   "id": "e8f51fb4",
   "metadata": {},
   "outputs": [],
   "source": [
    "# results = seasonal_decompose(df['EG_(GWh)'])\n",
    "# results.plot();"
   ]
  },
  {
   "cell_type": "code",
   "execution_count": 43,
   "id": "a11f8036",
   "metadata": {},
   "outputs": [],
   "source": [
    "# X_train = np.array([d_train[i][0] for i in range(m)])\n",
    "# y_train = np.array(d_train[m][0])\n",
    "# for i in range(1,(d_train.shape[0]-m)):\n",
    "#     l = np.array([d_train[j][0] for j in range(i,i+m)])\n",
    "#     X_train = np.vstack([X_train,l])\n",
    "#     y_train = np.vstack([y_train,d_train[i+m]])\n",
    "# X_test = np.array([d_test[i][0] for i in range(m)])\n",
    "# y_test = np.array(d_test[m][0])\n",
    "# for i in range(1,(d_test.shape[0]-m)):\n",
    "#     l = np.array([d_test[j][0] for j in range(i,i+m)])\n",
    "#     X_test = np.vstack([X_test,l])\n",
    "#     y_test = np.vstack([y_test,d_test[i+m]])\n",
    "# print(X_train.shape)\n",
    "# print(y_train.shape)\n",
    "# print(X_test.shape)\n",
    "# print(y_test.shape)"
   ]
  },
  {
   "cell_type": "code",
   "execution_count": 13,
   "id": "a85ca566",
   "metadata": {},
   "outputs": [
    {
     "data": {
      "text/plain": [
       "array([[2624.],\n",
       "       [2336.],\n",
       "       [2432.],\n",
       "       [2126.],\n",
       "       [2095.],\n",
       "       [1990.],\n",
       "       [2041.],\n",
       "       [2023.],\n",
       "       [2069.],\n",
       "       [2201.],\n",
       "       [2399.],\n",
       "       [2653.],\n",
       "       [2545.],\n",
       "       [2214.],\n",
       "       [2331.],\n",
       "       [2050.],\n",
       "       [2096.],\n",
       "       [1983.],\n",
       "       [1992.],\n",
       "       [2028.],\n",
       "       [2009.],\n",
       "       [2187.],\n",
       "       [2260.],\n",
       "       [2433.],\n",
       "       [2905.],\n",
       "       [2580.],\n",
       "       [2515.],\n",
       "       [2436.],\n",
       "       [2341.],\n",
       "       [2174.],\n",
       "       [2191.],\n",
       "       [2272.],\n",
       "       [2280.],\n",
       "       [2447.],\n",
       "       [2615.],\n",
       "       [2802.],\n",
       "       [2423.],\n",
       "       [2194.],\n",
       "       [2386.],\n",
       "       [2153.],\n",
       "       [2104.],\n",
       "       [1917.],\n",
       "       [2032.],\n",
       "       [2010.],\n",
       "       [2006.],\n",
       "       [2229.],\n",
       "       [2250.],\n",
       "       [2368.],\n",
       "       [2438.],\n",
       "       [2212.],\n",
       "       [2336.],\n",
       "       [2086.],\n",
       "       [2104.],\n",
       "       [1975.],\n",
       "       [2038.],\n",
       "       [2036.],\n",
       "       [2057.],\n",
       "       [2212.],\n",
       "       [2276.],\n",
       "       [2424.],\n",
       "       [2498.],\n",
       "       [2277.],\n",
       "       [2397.],\n",
       "       [2156.],\n",
       "       [2193.],\n",
       "       [2054.],\n",
       "       [2102.],\n",
       "       [2088.],\n",
       "       [2118.],\n",
       "       [2279.],\n",
       "       [2353.],\n",
       "       [2445.],\n",
       "       [2503.],\n",
       "       [2389.],\n",
       "       [2438.],\n",
       "       [2287.],\n",
       "       [2194.],\n",
       "       [2076.],\n",
       "       [2136.],\n",
       "       [2180.],\n",
       "       [2154.],\n",
       "       [2298.],\n",
       "       [2439.],\n",
       "       [2490.],\n",
       "       [2586.],\n",
       "       [2359.],\n",
       "       [2510.],\n",
       "       [2258.],\n",
       "       [2239.],\n",
       "       [2138.],\n",
       "       [2200.],\n",
       "       [2203.],\n",
       "       [2202.],\n",
       "       [2361.],\n",
       "       [2496.],\n",
       "       [2603.],\n",
       "       [2656.],\n",
       "       [2397.],\n",
       "       [2618.],\n",
       "       [2380.],\n",
       "       [2306.],\n",
       "       [2175.],\n",
       "       [2251.],\n",
       "       [2255.],\n",
       "       [2247.],\n",
       "       [2439.],\n",
       "       [2526.],\n",
       "       [2769.],\n",
       "       [2700.],\n",
       "       [2409.],\n",
       "       [2529.],\n",
       "       [2457.],\n",
       "       [2383.],\n",
       "       [2245.],\n",
       "       [2311.],\n",
       "       [2319.],\n",
       "       [2318.],\n",
       "       [2556.],\n",
       "       [2689.],\n",
       "       [2733.],\n",
       "       [2791.],\n",
       "       [2673.],\n",
       "       [2693.],\n",
       "       [2218.],\n",
       "       [2240.],\n",
       "       [2232.],\n",
       "       [2371.],\n",
       "       [2370.],\n",
       "       [2385.],\n",
       "       [2599.],\n",
       "       [2635.],\n",
       "       [2846.],\n",
       "       [2835.],\n",
       "       [2576.],\n",
       "       [2719.],\n",
       "       [2496.],\n",
       "       [2520.],\n",
       "       [2375.],\n",
       "       [2469.],\n",
       "       [2462.],\n",
       "       [2466.],\n",
       "       [2632.],\n",
       "       [2757.],\n",
       "       [2871.],\n",
       "       [2821.],\n",
       "       [2680.],\n",
       "       [2820.]])"
      ]
     },
     "execution_count": 13,
     "metadata": {},
     "output_type": "execute_result"
    }
   ],
   "source": [
    "from sklearn.metrics import mean_squared_error\n",
    "import math\n",
    "import numpy as np\n",
    "from scipy.linalg import pinv2\n",
    "df = np.array(df)\n",
    "df = np.reshape(df, (-1, 1))\n",
    "df"
   ]
  },
  {
   "cell_type": "code",
   "execution_count": 14,
   "id": "05f8e030",
   "metadata": {},
   "outputs": [
    {
     "data": {
      "text/plain": [
       "147"
      ]
     },
     "execution_count": 14,
     "metadata": {},
     "output_type": "execute_result"
    }
   ],
   "source": [
    "len(df)"
   ]
  },
  {
   "cell_type": "code",
   "execution_count": 20,
   "id": "15a7dd01",
   "metadata": {},
   "outputs": [],
   "source": [
    "m = 12 #lag size\n",
    "\n",
    "train_per = 135\n",
    "test_per = 12\n",
    "\n",
    "d_train = df[: 135]\n",
    "d_test = df[135 : ]\n",
    "\n",
    "mean_train = np.mean(d_train)\n",
    "sd_train = np.std(d_train)\n",
    "\n",
    "d_train = (d_train-mean_train) / sd_train\n",
    "d_test = (d_test-mean_train) / sd_train"
   ]
  },
  {
   "cell_type": "code",
   "execution_count": 21,
   "id": "6d0f1cf4",
   "metadata": {},
   "outputs": [
    {
     "data": {
      "text/plain": [
       "135"
      ]
     },
     "execution_count": 21,
     "metadata": {},
     "output_type": "execute_result"
    }
   ],
   "source": [
    "len(d_train)"
   ]
  },
  {
   "cell_type": "code",
   "execution_count": 22,
   "id": "f9686ea5",
   "metadata": {},
   "outputs": [
    {
     "data": {
      "text/plain": [
       "12"
      ]
     },
     "execution_count": 22,
     "metadata": {},
     "output_type": "execute_result"
    }
   ],
   "source": [
    "len(d_test)"
   ]
  },
  {
   "cell_type": "code",
   "execution_count": 44,
   "id": "0237d484",
   "metadata": {},
   "outputs": [],
   "source": [
    "# X_train = np.array([d_train[i][0] for i in range(m)])\n",
    "# y_train = np.array(d_train[m][0])\n",
    "\n",
    "# for i in range(1,(d_train.shape[0]-m)):\n",
    "#     l = np.array([d_train[j][0] for j in range(i,i+m)])\n",
    "#     X_train = np.vstack([X_train,l])\n",
    "#     y_train = np.vstack([y_train,d_train[i+m]])\n",
    "    \n",
    "# X_test = np.array([d_test[i][0] for i in range(m)])\n",
    "# y_test = np.array(d_test[m][0])\n",
    "\n",
    "# for i in range(1,(d_test.shape[0]-m)):\n",
    "#     l = np.array([d_test[j][0] for j in range(i,i+m)])\n",
    "#     X_test = np.vstack([X_test,l])\n",
    "#     y_test = np.vstack([y_test,d_test[i+m]])\n",
    "    \n",
    "# print(X_train.shape)\n",
    "# print(y_train.shape)\n",
    "# print(X_test.shape)\n",
    "# print(y_test.shape)\n",
    "\n",
    "\n",
    "\n",
    "# we are feeding 12 months data to predict next month prediction"
   ]
  },
  {
   "cell_type": "code",
   "execution_count": 99,
   "id": "1bff9a38",
   "metadata": {},
   "outputs": [],
   "source": [
    "import scipy.stats as stats\n",
    "input_size = X_train.shape[1]\n",
    "hidden_size = 100   #no. of hidden neurons\n",
    "mu, sigma = 0, 1\n",
    "w_lo = -1 \n",
    "w_hi = 1\n",
    "b_lo = -1 \n",
    "b_hi = 1\n",
    "#initialising input weights and biases randomly drawn from a truncated normal distribution\n",
    "input_weights = stats.truncnorm.rvs((w_lo - mu) / sigma, (w_hi - mu) / sigma, loc=mu, scale=sigma,size=[input_size,hidden_size])\n",
    "biases = stats.truncnorm.rvs((b_lo - mu) / sigma, (b_hi - mu) / sigma, loc=mu, scale=sigma,size=[hidden_size])\n",
    "\n",
    "def relu(x):      #hidden layer activation function\n",
    "    return np.maximum(x, 0, x)"
   ]
  },
  {
   "cell_type": "code",
   "execution_count": 100,
   "id": "726b796b",
   "metadata": {},
   "outputs": [],
   "source": [
    "def hidden_nodes(X):\n",
    "    G = np.dot(X, input_weights)\n",
    "    G = G + biases\n",
    "    H = relu(G)\n",
    "    return H\n",
    "output_weights = np.dot(pinv2(hidden_nodes(X_train)), y_train)\n",
    "def predict(X):\n",
    "    out = hidden_nodes(X)\n",
    "    out = np.dot(out, output_weights)\n",
    "    return out\n",
    "prediction = predict(X_test)"
   ]
  },
  {
   "cell_type": "code",
   "execution_count": 101,
   "id": "8a896fa8",
   "metadata": {},
   "outputs": [
    {
     "name": "stdout",
     "output_type": "stream",
     "text": [
      "Test RMSE: 129209749.285\n",
      "Test MAPE: 99.998\n",
      "Test MPE: 99.998\n"
     ]
    }
   ],
   "source": [
    "correct = 0\n",
    "total = X_test.shape[0]\n",
    "y_test = (y_test*sd_train) + mean_train\n",
    "prediction = (prediction*sd_train) + mean_train\n",
    "\n",
    "# evaluate forecasts\n",
    "rmse = math.sqrt(mean_squared_error(y_test, prediction))\n",
    "print('Test RMSE: %.3f' % rmse)\n",
    "\n",
    "mape_sum = 0\n",
    "\n",
    "for i,j in zip(y_test,prediction):\n",
    "    mape_sum = mape_sum + (abs((i-j)/i))\n",
    "mape = (mape_sum/total)*100\n",
    "mpe_sum = 0\n",
    "\n",
    "for i,j in zip(y_test,prediction):\n",
    "    mpe_sum = mpe_sum + ((i-j)/i)\n",
    "mpe = (mpe_sum/total)*100\n",
    "\n",
    "print('Test MAPE: %.3f' % mape)\n",
    "print('Test MPE: %.3f' % mpe)"
   ]
  },
  {
   "cell_type": "code",
   "execution_count": 105,
   "id": "5e39a52d",
   "metadata": {},
   "outputs": [
    {
     "data": {
      "text/plain": [
       "(array([-2.0e+07,  0.0e+00,  2.0e+07,  4.0e+07,  6.0e+07,  8.0e+07,\n",
       "         1.0e+08,  1.2e+08,  1.4e+08]),\n",
       " [Text(0, 0, ''),\n",
       "  Text(0, 0, ''),\n",
       "  Text(0, 0, ''),\n",
       "  Text(0, 0, ''),\n",
       "  Text(0, 0, ''),\n",
       "  Text(0, 0, ''),\n",
       "  Text(0, 0, ''),\n",
       "  Text(0, 0, ''),\n",
       "  Text(0, 0, '')])"
      ]
     },
     "execution_count": 105,
     "metadata": {},
     "output_type": "execute_result"
    },
    {
     "data": {
      "image/png": "[encoded data removed]",
      "text/plain": [
       "<Figure size 720x432 with 1 Axes>"
      ]
     },
     "metadata": {
      "needs_background": "light"
     },
     "output_type": "display_data"
    }
   ],
   "source": [
    "# plot forecasts against actual outcomes\n",
    "fig, ax = plt.subplots(figsize = (10,6))\n",
    "ax.plot(y_test, label = 'Actual')\n",
    "ax.plot(prediction, color='red',label = 'Predictions')\n",
    "ax.legend(loc='upper right', frameon=False)\n",
    "plt.xlabel('Days',fontname=\"Arial\", fontsize=24, style='italic', fontweight='bold')\n",
    "plt.ylabel('Electricity',fontname=\"Arial\", fontsize=24, style='italic', fontweight='bold')\n",
    "\n",
    "plt.title('Forecasting for last 3 months with ELM (100 hidden nodes)',fontname=\"Arial\", fontsize=24, style='italic', fontweight='bold')\n",
    "# plt.xticks([0,20,40,60,80],['2021-11-01','2021-12-01','2022-01-01', '2022-02-01', '2022-03-01'],fontname=\"Arial\", fontsize = 20, style='italic')\n",
    "\n",
    "plt.yticks(fontname=\"Arial\", fontsize = 22, style='italic')\n"
   ]
  },
  {
   "cell_type": "code",
   "execution_count": null,
   "id": "e1dd0573",
   "metadata": {},
   "outputs": [],
   "source": []
  },
  {
   "cell_type": "code",
   "execution_count": null,
   "id": "f0a4959a",
   "metadata": {},
   "outputs": [],
   "source": []
  },
  {
   "cell_type": "code",
   "execution_count": null,
   "id": "441a0947",
   "metadata": {},
   "outputs": [],
   "source": []
  },
  {
   "cell_type": "code",
   "execution_count": null,
   "id": "c0143a38",
   "metadata": {},
   "outputs": [],
   "source": []
  },
  {
   "cell_type": "code",
   "execution_count": null,
   "id": "50157c0d",
   "metadata": {},
   "outputs": [],
   "source": []
  },
  {
   "cell_type": "code",
   "execution_count": null,
   "id": "96859366",
   "metadata": {},
   "outputs": [],
   "source": []
  },
  {
   "cell_type": "code",
   "execution_count": null,
   "id": "193cda17",
   "metadata": {},
   "outputs": [],
   "source": []
  },
  {
   "cell_type": "code",
   "execution_count": null,
   "id": "29a4c3a5",
   "metadata": {},
   "outputs": [],
   "source": []
  },
  {
   "cell_type": "code",
   "execution_count": 57,
   "id": "89cee1ee",
   "metadata": {},
   "outputs": [],
   "source": []
  },
  {
   "cell_type": "code",
   "execution_count": null,
   "id": "a25b6adb",
   "metadata": {},
   "outputs": [],
   "source": []
  },
  {
   "cell_type": "code",
   "execution_count": null,
   "id": "e1b44e3e",
   "metadata": {},
   "outputs": [],
   "source": []
  },
  {
   "cell_type": "code",
   "execution_count": null,
   "id": "57c3fe94",
   "metadata": {},
   "outputs": [],
   "source": []
  },
  {
   "cell_type": "code",
   "execution_count": null,
   "id": "e132ade6",
   "metadata": {},
   "outputs": [],
   "source": []
  },
  {
   "cell_type": "code",
   "execution_count": null,
   "id": "c86941d8",
   "metadata": {},
   "outputs": [],
   "source": []
  },
  {
   "cell_type": "code",
   "execution_count": null,
   "id": "f682e871",
   "metadata": {},
   "outputs": [],
   "source": []
  },
  {
   "cell_type": "code",
   "execution_count": null,
   "id": "3a90a630",
   "metadata": {},
   "outputs": [],
   "source": []
  },
  {
   "cell_type": "code",
   "execution_count": null,
   "id": "e4ad5450",
   "metadata": {},
   "outputs": [],
   "source": []
  },
  {
   "cell_type": "code",
   "execution_count": null,
   "id": "f7caf591",
   "metadata": {},
   "outputs": [],
   "source": []
  },
  {
   "cell_type": "code",
   "execution_count": null,
   "id": "829a9800",
   "metadata": {},
   "outputs": [],
   "source": []
  },
  {
   "cell_type": "code",
   "execution_count": 58,
   "id": "254c1b1c",
   "metadata": {},
   "outputs": [],
   "source": [
    "# https://www.analyticsvidhya.com/blog/2021/12/time-series-forecasting-with-extreme-learning-machines/"
   ]
  },
  {
   "cell_type": "code",
   "execution_count": null,
   "id": "e87e1e97",
   "metadata": {},
   "outputs": [],
   "source": []
  }
 ],
 "metadata": {
  "kernelspec": {
   "display_name": "Python 3",
   "language": "python",
   "name": "python3"
  },
  "language_info": {
   "codemirror_mode": {
    "name": "ipython",
    "version": 3
   },
   "file_extension": ".py",
   "mimetype": "text/x-python",
   "name": "python",
   "nbconvert_exporter": "python",
   "pygments_lexer": "ipython3",
   "version": "3.8.8"
  }
 },
 "nbformat": 4,
 "nbformat_minor": 5
}
