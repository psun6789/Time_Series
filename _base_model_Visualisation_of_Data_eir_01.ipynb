{
 "cells": [
  {
   "cell_type": "code",
   "execution_count": null,
   "id": "66579de6",
   "metadata": {},
   "outputs": [],
   "source": []
  },
  {
   "cell_type": "code",
   "execution_count": 1,
   "id": "5a7e5946",
   "metadata": {},
   "outputs": [
    {
     "name": "stdout",
     "output_type": "stream",
     "text": [
      "2.8.0\n"
     ]
    }
   ],
   "source": [
    "# import libraries\n",
    "import tensorflow as tf\n",
    "print(tf.__version__)\n",
    "from sklearn import datasets\n",
    "from sklearn import preprocessing\n",
    "import numpy as np\n",
    "import pandas as pd\n",
    "\n",
    "%matplotlib inline\n",
    "import matplotlib.pyplot as plt\n",
    "from matplotlib import ticker\n",
    "import seaborn as sns\n",
    "from statsmodels.graphics.tsaplots import plot_acf, plot_pacf, month_plot\n",
    "from statsmodels.tsa.stattools import kpss, adfuller\n",
    "from statsmodels.tsa.seasonal import STL\n",
    "from pylab import rcParams\n",
    "from platform import python_version"
   ]
  },
  {
   "cell_type": "code",
   "execution_count": 2,
   "id": "c518bf18",
   "metadata": {},
   "outputs": [
    {
     "name": "stdout",
     "output_type": "stream",
     "text": [
      "           Datetime   AG_MW      REGION\n",
      "0  16-02-2022 00:00  4959.0  All Island\n",
      "1  16-02-2022 00:15  4984.0  All Island\n",
      "2  16-02-2022 00:30  5063.0  All Island\n",
      "3  16-02-2022 00:45  5068.0  All Island\n",
      "4  16-02-2022 01:00  5014.0  All Island \n",
      "\n"
     ]
    }
   ],
   "source": [
    "df = pd.read_csv(\"_eir_dataset/thesis_data.csv\")\n",
    "print(df.head(5),\"\\n\")"
   ]
  },
  {
   "cell_type": "code",
   "execution_count": 167,
   "id": "ad12b53d",
   "metadata": {},
   "outputs": [],
   "source": [
    "# dataframe = pd.DataFrame(df)"
   ]
  },
  {
   "cell_type": "code",
   "execution_count": 3,
   "id": "d37b7e9a",
   "metadata": {},
   "outputs": [
    {
     "data": {
      "text/plain": [
       "Datetime     object\n",
       "AG_MW       float64\n",
       " REGION      object\n",
       "dtype: object"
      ]
     },
     "execution_count": 3,
     "metadata": {},
     "output_type": "execute_result"
    }
   ],
   "source": [
    "df.dtypes"
   ]
  },
  {
   "cell_type": "code",
   "execution_count": 4,
   "id": "4f60fa9e",
   "metadata": {},
   "outputs": [
    {
     "data": {
      "text/html": [
       "<div>\n",
       "<style scoped>\n",
       "    .dataframe tbody tr th:only-of-type {\n",
       "        vertical-align: middle;\n",
       "    }\n",
       "\n",
       "    .dataframe tbody tr th {\n",
       "        vertical-align: top;\n",
       "    }\n",
       "\n",
       "    .dataframe thead th {\n",
       "        text-align: right;\n",
       "    }\n",
       "</style>\n",
       "<table border=\"1\" class=\"dataframe\">\n",
       "  <thead>\n",
       "    <tr style=\"text-align: right;\">\n",
       "      <th></th>\n",
       "      <th>Datetime</th>\n",
       "      <th>AG_MW</th>\n",
       "      <th>REGION</th>\n",
       "    </tr>\n",
       "  </thead>\n",
       "  <tbody>\n",
       "    <tr>\n",
       "      <th>0</th>\n",
       "      <td>16-02-2022 00:00</td>\n",
       "      <td>4959.0</td>\n",
       "      <td>All Island</td>\n",
       "    </tr>\n",
       "  </tbody>\n",
       "</table>\n",
       "</div>"
      ],
      "text/plain": [
       "           Datetime   AG_MW      REGION\n",
       "0  16-02-2022 00:00  4959.0  All Island"
      ]
     },
     "execution_count": 4,
     "metadata": {},
     "output_type": "execute_result"
    }
   ],
   "source": [
    "df.head(1)"
   ]
  },
  {
   "cell_type": "code",
   "execution_count": 5,
   "id": "922f3131",
   "metadata": {},
   "outputs": [],
   "source": [
    "# rename the timestamp column\n",
    "# dataframe.rename (columns= ({'DATE & TIME': 'Datetime'}), inplace=True)"
   ]
  },
  {
   "cell_type": "code",
   "execution_count": 6,
   "id": "0f57027a",
   "metadata": {},
   "outputs": [
    {
     "name": "stdout",
     "output_type": "stream",
     "text": [
      "              Datetime   AG_MW      REGION\n",
      "0     16-02-2022 00:00  4959.0  All Island\n",
      "1     16-02-2022 00:15  4984.0  All Island\n",
      "2     16-02-2022 00:30  5063.0  All Island\n",
      "3     16-02-2022 00:45  5068.0  All Island\n",
      "4     16-02-2022 01:00  5014.0  All Island\n",
      "...                ...     ...         ...\n",
      "5667  16-04-2022 11:30  4842.0  All Island\n",
      "5668  16-04-2022 11:45  4727.0  All Island\n",
      "5669  16-04-2022 12:00  4641.0  All Island\n",
      "5670  16-04-2022 12:15  4568.0  All Island\n",
      "5671  16-04-2022 12:30  4509.0  All Island\n",
      "\n",
      "[5672 rows x 3 columns]\n"
     ]
    }
   ],
   "source": [
    "# df.head(5)\n",
    "print(df)"
   ]
  },
  {
   "cell_type": "code",
   "execution_count": 7,
   "id": "cfbdf905",
   "metadata": {},
   "outputs": [],
   "source": [
    "# Let us drop the third column\n",
    "df.drop(df.columns[2],axis=1,inplace=True)"
   ]
  },
  {
   "cell_type": "code",
   "execution_count": 8,
   "id": "9418c406",
   "metadata": {},
   "outputs": [
    {
     "data": {
      "text/html": [
       "<div>\n",
       "<style scoped>\n",
       "    .dataframe tbody tr th:only-of-type {\n",
       "        vertical-align: middle;\n",
       "    }\n",
       "\n",
       "    .dataframe tbody tr th {\n",
       "        vertical-align: top;\n",
       "    }\n",
       "\n",
       "    .dataframe thead th {\n",
       "        text-align: right;\n",
       "    }\n",
       "</style>\n",
       "<table border=\"1\" class=\"dataframe\">\n",
       "  <thead>\n",
       "    <tr style=\"text-align: right;\">\n",
       "      <th></th>\n",
       "      <th>Datetime</th>\n",
       "      <th>AG_MW</th>\n",
       "    </tr>\n",
       "  </thead>\n",
       "  <tbody>\n",
       "    <tr>\n",
       "      <th>0</th>\n",
       "      <td>16-02-2022 00:00</td>\n",
       "      <td>4959.0</td>\n",
       "    </tr>\n",
       "    <tr>\n",
       "      <th>1</th>\n",
       "      <td>16-02-2022 00:15</td>\n",
       "      <td>4984.0</td>\n",
       "    </tr>\n",
       "    <tr>\n",
       "      <th>2</th>\n",
       "      <td>16-02-2022 00:30</td>\n",
       "      <td>5063.0</td>\n",
       "    </tr>\n",
       "    <tr>\n",
       "      <th>3</th>\n",
       "      <td>16-02-2022 00:45</td>\n",
       "      <td>5068.0</td>\n",
       "    </tr>\n",
       "    <tr>\n",
       "      <th>4</th>\n",
       "      <td>16-02-2022 01:00</td>\n",
       "      <td>5014.0</td>\n",
       "    </tr>\n",
       "  </tbody>\n",
       "</table>\n",
       "</div>"
      ],
      "text/plain": [
       "           Datetime   AG_MW\n",
       "0  16-02-2022 00:00  4959.0\n",
       "1  16-02-2022 00:15  4984.0\n",
       "2  16-02-2022 00:30  5063.0\n",
       "3  16-02-2022 00:45  5068.0\n",
       "4  16-02-2022 01:00  5014.0"
      ]
     },
     "execution_count": 8,
     "metadata": {},
     "output_type": "execute_result"
    }
   ],
   "source": [
    "# Data After removing the REGION column\n",
    "df.head(5)\n"
   ]
  },
  {
   "cell_type": "code",
   "execution_count": 12,
   "id": "8278f4e7",
   "metadata": {},
   "outputs": [
    {
     "name": "stdout",
     "output_type": "stream",
     "text": [
      "(5672, 2)\n",
      "Datetime     object\n",
      "AG_MW       float64\n",
      "dtype: object\n"
     ]
    },
    {
     "data": {
      "text/html": [
       "<div>\n",
       "<style scoped>\n",
       "    .dataframe tbody tr th:only-of-type {\n",
       "        vertical-align: middle;\n",
       "    }\n",
       "\n",
       "    .dataframe tbody tr th {\n",
       "        vertical-align: top;\n",
       "    }\n",
       "\n",
       "    .dataframe thead th {\n",
       "        text-align: right;\n",
       "    }\n",
       "</style>\n",
       "<table border=\"1\" class=\"dataframe\">\n",
       "  <thead>\n",
       "    <tr style=\"text-align: right;\">\n",
       "      <th></th>\n",
       "      <th>Datetime</th>\n",
       "      <th>AG_MW</th>\n",
       "    </tr>\n",
       "  </thead>\n",
       "  <tbody>\n",
       "    <tr>\n",
       "      <th>0</th>\n",
       "      <td>16-02-2022 00:00</td>\n",
       "      <td>4959.0</td>\n",
       "    </tr>\n",
       "    <tr>\n",
       "      <th>1</th>\n",
       "      <td>16-02-2022 00:15</td>\n",
       "      <td>4984.0</td>\n",
       "    </tr>\n",
       "    <tr>\n",
       "      <th>2</th>\n",
       "      <td>16-02-2022 00:30</td>\n",
       "      <td>5063.0</td>\n",
       "    </tr>\n",
       "    <tr>\n",
       "      <th>3</th>\n",
       "      <td>16-02-2022 00:45</td>\n",
       "      <td>5068.0</td>\n",
       "    </tr>\n",
       "    <tr>\n",
       "      <th>4</th>\n",
       "      <td>16-02-2022 01:00</td>\n",
       "      <td>5014.0</td>\n",
       "    </tr>\n",
       "  </tbody>\n",
       "</table>\n",
       "</div>"
      ],
      "text/plain": [
       "           Datetime   AG_MW\n",
       "0  16-02-2022 00:00  4959.0\n",
       "1  16-02-2022 00:15  4984.0\n",
       "2  16-02-2022 00:30  5063.0\n",
       "3  16-02-2022 00:45  5068.0\n",
       "4  16-02-2022 01:00  5014.0"
      ]
     },
     "execution_count": 12,
     "metadata": {},
     "output_type": "execute_result"
    }
   ],
   "source": [
    "print(df.shape)\n",
    "print(df.dtypes)\n",
    "df.head()"
   ]
  },
  {
   "cell_type": "markdown",
   "id": "1f257533",
   "metadata": {},
   "source": [
    "We can see that there are 1,21,273 rows with 2 columns"
   ]
  },
  {
   "cell_type": "code",
   "execution_count": 14,
   "id": "8d167a51",
   "metadata": {},
   "outputs": [
    {
     "name": "stdout",
     "output_type": "stream",
     "text": [
      "<class 'pandas.core.frame.DataFrame'>\n",
      "RangeIndex: 5672 entries, 0 to 5671\n",
      "Columns: 2 entries, Datetime to AG_MW\n",
      "dtypes: float64(1), object(1)\n",
      "memory usage: 88.8+ KB\n"
     ]
    }
   ],
   "source": [
    "# Examine the initial Data\n",
    "df.info(verbose=False)"
   ]
  },
  {
   "cell_type": "code",
   "execution_count": 15,
   "id": "20466560",
   "metadata": {},
   "outputs": [
    {
     "data": {
      "text/html": [
       "<div>\n",
       "<style scoped>\n",
       "    .dataframe tbody tr th:only-of-type {\n",
       "        vertical-align: middle;\n",
       "    }\n",
       "\n",
       "    .dataframe tbody tr th {\n",
       "        vertical-align: top;\n",
       "    }\n",
       "\n",
       "    .dataframe thead th {\n",
       "        text-align: right;\n",
       "    }\n",
       "</style>\n",
       "<table border=\"1\" class=\"dataframe\">\n",
       "  <thead>\n",
       "    <tr style=\"text-align: right;\">\n",
       "      <th></th>\n",
       "      <th>AG_MW</th>\n",
       "    </tr>\n",
       "  </thead>\n",
       "  <tbody>\n",
       "    <tr>\n",
       "      <th>count</th>\n",
       "      <td>5668.000000</td>\n",
       "    </tr>\n",
       "    <tr>\n",
       "      <th>mean</th>\n",
       "      <td>4785.447601</td>\n",
       "    </tr>\n",
       "    <tr>\n",
       "      <th>std</th>\n",
       "      <td>765.016435</td>\n",
       "    </tr>\n",
       "    <tr>\n",
       "      <th>min</th>\n",
       "      <td>2584.000000</td>\n",
       "    </tr>\n",
       "    <tr>\n",
       "      <th>25%</th>\n",
       "      <td>4176.750000</td>\n",
       "    </tr>\n",
       "    <tr>\n",
       "      <th>50%</th>\n",
       "      <td>4791.000000</td>\n",
       "    </tr>\n",
       "    <tr>\n",
       "      <th>75%</th>\n",
       "      <td>5343.250000</td>\n",
       "    </tr>\n",
       "    <tr>\n",
       "      <th>max</th>\n",
       "      <td>6884.000000</td>\n",
       "    </tr>\n",
       "  </tbody>\n",
       "</table>\n",
       "</div>"
      ],
      "text/plain": [
       "             AG_MW\n",
       "count  5668.000000\n",
       "mean   4785.447601\n",
       "std     765.016435\n",
       "min    2584.000000\n",
       "25%    4176.750000\n",
       "50%    4791.000000\n",
       "75%    5343.250000\n",
       "max    6884.000000"
      ]
     },
     "execution_count": 15,
     "metadata": {},
     "output_type": "execute_result"
    }
   ],
   "source": [
    "# describe the data\n",
    "\n",
    "df.describe()"
   ]
  },
  {
   "cell_type": "markdown",
   "id": "aa24a331",
   "metadata": {},
   "source": [
    "# check if there is any empty feature"
   ]
  },
  {
   "cell_type": "code",
   "execution_count": 75,
   "id": "d4dde6c9",
   "metadata": {},
   "outputs": [
    {
     "data": {
      "text/html": [
       "<div>\n",
       "<style scoped>\n",
       "    .dataframe tbody tr th:only-of-type {\n",
       "        vertical-align: middle;\n",
       "    }\n",
       "\n",
       "    .dataframe tbody tr th {\n",
       "        vertical-align: top;\n",
       "    }\n",
       "\n",
       "    .dataframe thead th {\n",
       "        text-align: right;\n",
       "    }\n",
       "</style>\n",
       "<table border=\"1\" class=\"dataframe\">\n",
       "  <thead>\n",
       "    <tr style=\"text-align: right;\">\n",
       "      <th></th>\n",
       "      <th>MonthlyAverage</th>\n",
       "    </tr>\n",
       "    <tr>\n",
       "      <th>Datetime</th>\n",
       "      <th></th>\n",
       "    </tr>\n",
       "  </thead>\n",
       "  <tbody>\n",
       "    <tr>\n",
       "      <th>2021-12-31</th>\n",
       "      <td>False</td>\n",
       "    </tr>\n",
       "    <tr>\n",
       "      <th>2022-01-31</th>\n",
       "      <td>False</td>\n",
       "    </tr>\n",
       "    <tr>\n",
       "      <th>2022-02-28</th>\n",
       "      <td>False</td>\n",
       "    </tr>\n",
       "    <tr>\n",
       "      <th>2022-03-31</th>\n",
       "      <td>False</td>\n",
       "    </tr>\n",
       "    <tr>\n",
       "      <th>2022-04-30</th>\n",
       "      <td>False</td>\n",
       "    </tr>\n",
       "    <tr>\n",
       "      <th>2022-05-31</th>\n",
       "      <td>False</td>\n",
       "    </tr>\n",
       "    <tr>\n",
       "      <th>2022-06-30</th>\n",
       "      <td>False</td>\n",
       "    </tr>\n",
       "    <tr>\n",
       "      <th>2022-07-31</th>\n",
       "      <td>False</td>\n",
       "    </tr>\n",
       "    <tr>\n",
       "      <th>2022-08-31</th>\n",
       "      <td>False</td>\n",
       "    </tr>\n",
       "    <tr>\n",
       "      <th>2022-09-30</th>\n",
       "      <td>False</td>\n",
       "    </tr>\n",
       "    <tr>\n",
       "      <th>2022-10-31</th>\n",
       "      <td>False</td>\n",
       "    </tr>\n",
       "    <tr>\n",
       "      <th>2022-11-30</th>\n",
       "      <td>False</td>\n",
       "    </tr>\n",
       "  </tbody>\n",
       "</table>\n",
       "</div>"
      ],
      "text/plain": [
       "            MonthlyAverage\n",
       "Datetime                  \n",
       "2021-12-31           False\n",
       "2022-01-31           False\n",
       "2022-02-28           False\n",
       "2022-03-31           False\n",
       "2022-04-30           False\n",
       "2022-05-31           False\n",
       "2022-06-30           False\n",
       "2022-07-31           False\n",
       "2022-08-31           False\n",
       "2022-09-30           False\n",
       "2022-10-31           False\n",
       "2022-11-30           False"
      ]
     },
     "execution_count": 75,
     "metadata": {},
     "output_type": "execute_result"
    }
   ],
   "source": [
    "df.isnull()"
   ]
  },
  {
   "cell_type": "markdown",
   "id": "2fe6e395",
   "metadata": {},
   "source": [
    "We can see that there are no empty columns"
   ]
  },
  {
   "cell_type": "code",
   "execution_count": 18,
   "id": "ef88b10a",
   "metadata": {},
   "outputs": [
    {
     "name": "stdout",
     "output_type": "stream",
     "text": [
      "Datetime    datetime64[ns]\n",
      "AG_MW              float64\n",
      "dtype: object\n"
     ]
    },
    {
     "data": {
      "text/html": [
       "<div>\n",
       "<style scoped>\n",
       "    .dataframe tbody tr th:only-of-type {\n",
       "        vertical-align: middle;\n",
       "    }\n",
       "\n",
       "    .dataframe tbody tr th {\n",
       "        vertical-align: top;\n",
       "    }\n",
       "\n",
       "    .dataframe thead th {\n",
       "        text-align: right;\n",
       "    }\n",
       "</style>\n",
       "<table border=\"1\" class=\"dataframe\">\n",
       "  <thead>\n",
       "    <tr style=\"text-align: right;\">\n",
       "      <th></th>\n",
       "      <th>Datetime</th>\n",
       "      <th>AG_MW</th>\n",
       "    </tr>\n",
       "  </thead>\n",
       "  <tbody>\n",
       "    <tr>\n",
       "      <th>0</th>\n",
       "      <td>2022-02-16 00:00:00</td>\n",
       "      <td>4959.0</td>\n",
       "    </tr>\n",
       "    <tr>\n",
       "      <th>1</th>\n",
       "      <td>2022-02-16 00:15:00</td>\n",
       "      <td>4984.0</td>\n",
       "    </tr>\n",
       "    <tr>\n",
       "      <th>2</th>\n",
       "      <td>2022-02-16 00:30:00</td>\n",
       "      <td>5063.0</td>\n",
       "    </tr>\n",
       "    <tr>\n",
       "      <th>3</th>\n",
       "      <td>2022-02-16 00:45:00</td>\n",
       "      <td>5068.0</td>\n",
       "    </tr>\n",
       "    <tr>\n",
       "      <th>4</th>\n",
       "      <td>2022-02-16 01:00:00</td>\n",
       "      <td>5014.0</td>\n",
       "    </tr>\n",
       "  </tbody>\n",
       "</table>\n",
       "</div>"
      ],
      "text/plain": [
       "             Datetime   AG_MW\n",
       "0 2022-02-16 00:00:00  4959.0\n",
       "1 2022-02-16 00:15:00  4984.0\n",
       "2 2022-02-16 00:30:00  5063.0\n",
       "3 2022-02-16 00:45:00  5068.0\n",
       "4 2022-02-16 01:00:00  5014.0"
      ]
     },
     "execution_count": 18,
     "metadata": {},
     "output_type": "execute_result"
    }
   ],
   "source": [
    "# let us see the date time format\n",
    "df['Datetime'] = df.Datetime.astype('datetime64[ns]')\n",
    "print(df.dtypes)\n",
    "df.head()"
   ]
  },
  {
   "cell_type": "markdown",
   "id": "4b0b2df4",
   "metadata": {},
   "source": [
    "# Let us see the start and end date_time of data"
   ]
  },
  {
   "cell_type": "code",
   "execution_count": 19,
   "id": "e88f4b89",
   "metadata": {},
   "outputs": [
    {
     "data": {
      "text/plain": [
       "count                             5672\n",
       "mean     2022-04-22 21:54:14.248942080\n",
       "min                2022-01-03 00:00:00\n",
       "25%                2022-02-26 18:26:15\n",
       "50%                2022-03-23 23:37:30\n",
       "75%                2022-05-04 05:18:45\n",
       "max                2022-12-04 23:45:00\n",
       "Name: Datetime, dtype: object"
      ]
     },
     "execution_count": 19,
     "metadata": {},
     "output_type": "execute_result"
    }
   ],
   "source": [
    "df['Datetime'].describe(datetime_is_numeric=True)"
   ]
  },
  {
   "cell_type": "markdown",
   "id": "0bd1cc8b",
   "metadata": {},
   "source": [
    "The start date is from 1st March 2022 to 12th April, 2022"
   ]
  },
  {
   "cell_type": "markdown",
   "id": "fe922f11",
   "metadata": {},
   "source": [
    "# Plotting with Time\n",
    "\n",
    "let us plot energy observation against the data time records"
   ]
  },
  {
   "cell_type": "code",
   "execution_count": 27,
   "id": "bfc5fd43",
   "metadata": {},
   "outputs": [
    {
     "data": {
      "image/png": "[encoded data removed]",
      "text/plain": [
       "<Figure size 432x288 with 1 Axes>"
      ]
     },
     "metadata": {
      "needs_background": "light"
     },
     "output_type": "display_data"
    }
   ],
   "source": [
    "x_axis = sns.lineplot(data=df, x='Datetime', y='AG_MW' )\n",
    "\n",
    "plt.xlabel('Data Time')\n",
    "plt.ylabel('Energy consumption (Mega Watts)')\n",
    "\n",
    "plt.show()"
   ]
  },
  {
   "cell_type": "code",
   "execution_count": 28,
   "id": "4e855a77",
   "metadata": {},
   "outputs": [],
   "source": [
    "df['date'] = pd.to_datetime(df['Datetime'],format='%d%m%Y')\n",
    "df['year'] = pd.DatetimeIndex(df['Datetime']).year\n",
    "df['month'] = pd.DatetimeIndex(df['Datetime']).month"
   ]
  },
  {
   "cell_type": "code",
   "execution_count": 31,
   "id": "cc2c5348",
   "metadata": {},
   "outputs": [
    {
     "data": {
      "image/png": "[encoded data removed]",
      "text/plain": [
       "<Figure size 432x288 with 1 Axes>"
      ]
     },
     "metadata": {
      "needs_background": "light"
     },
     "output_type": "display_data"
    }
   ],
   "source": [
    "x_axis = sns.lineplot(data=df, x=df['month'], y='AG_MW' )\n",
    "\n",
    "plt.xlabel('Data Time')\n",
    "plt.ylabel('Energy consumption (Mega Watts)')\n",
    "\n",
    "plt.show()"
   ]
  },
  {
   "cell_type": "markdown",
   "id": "1dbe79d3",
   "metadata": {},
   "source": [
    "# let us define quarter column to dataframe for seasonal plotting"
   ]
  },
  {
   "cell_type": "code",
   "execution_count": 32,
   "id": "b04c85a9",
   "metadata": {},
   "outputs": [
    {
     "data": {
      "text/html": [
       "<div>\n",
       "<style scoped>\n",
       "    .dataframe tbody tr th:only-of-type {\n",
       "        vertical-align: middle;\n",
       "    }\n",
       "\n",
       "    .dataframe tbody tr th {\n",
       "        vertical-align: top;\n",
       "    }\n",
       "\n",
       "    .dataframe thead th {\n",
       "        text-align: right;\n",
       "    }\n",
       "</style>\n",
       "<table border=\"1\" class=\"dataframe\">\n",
       "  <thead>\n",
       "    <tr style=\"text-align: right;\">\n",
       "      <th></th>\n",
       "      <th>Datetime</th>\n",
       "      <th>AG_MW</th>\n",
       "      <th>date</th>\n",
       "      <th>year</th>\n",
       "      <th>month</th>\n",
       "      <th>Quater</th>\n",
       "    </tr>\n",
       "  </thead>\n",
       "  <tbody>\n",
       "    <tr>\n",
       "      <th>0</th>\n",
       "      <td>2022-02-16 00:00:00</td>\n",
       "      <td>4959.0</td>\n",
       "      <td>2022-02-16 00:00:00</td>\n",
       "      <td>2022</td>\n",
       "      <td>2</td>\n",
       "      <td>1</td>\n",
       "    </tr>\n",
       "    <tr>\n",
       "      <th>1</th>\n",
       "      <td>2022-02-16 00:15:00</td>\n",
       "      <td>4984.0</td>\n",
       "      <td>2022-02-16 00:15:00</td>\n",
       "      <td>2022</td>\n",
       "      <td>2</td>\n",
       "      <td>1</td>\n",
       "    </tr>\n",
       "    <tr>\n",
       "      <th>2</th>\n",
       "      <td>2022-02-16 00:30:00</td>\n",
       "      <td>5063.0</td>\n",
       "      <td>2022-02-16 00:30:00</td>\n",
       "      <td>2022</td>\n",
       "      <td>2</td>\n",
       "      <td>1</td>\n",
       "    </tr>\n",
       "    <tr>\n",
       "      <th>3</th>\n",
       "      <td>2022-02-16 00:45:00</td>\n",
       "      <td>5068.0</td>\n",
       "      <td>2022-02-16 00:45:00</td>\n",
       "      <td>2022</td>\n",
       "      <td>2</td>\n",
       "      <td>1</td>\n",
       "    </tr>\n",
       "    <tr>\n",
       "      <th>4</th>\n",
       "      <td>2022-02-16 01:00:00</td>\n",
       "      <td>5014.0</td>\n",
       "      <td>2022-02-16 01:00:00</td>\n",
       "      <td>2022</td>\n",
       "      <td>2</td>\n",
       "      <td>1</td>\n",
       "    </tr>\n",
       "  </tbody>\n",
       "</table>\n",
       "</div>"
      ],
      "text/plain": [
       "             Datetime   AG_MW                date  year  month  Quater\n",
       "0 2022-02-16 00:00:00  4959.0 2022-02-16 00:00:00  2022      2       1\n",
       "1 2022-02-16 00:15:00  4984.0 2022-02-16 00:15:00  2022      2       1\n",
       "2 2022-02-16 00:30:00  5063.0 2022-02-16 00:30:00  2022      2       1\n",
       "3 2022-02-16 00:45:00  5068.0 2022-02-16 00:45:00  2022      2       1\n",
       "4 2022-02-16 01:00:00  5014.0 2022-02-16 01:00:00  2022      2       1"
      ]
     },
     "execution_count": 32,
     "metadata": {},
     "output_type": "execute_result"
    }
   ],
   "source": [
    "df['Quater'] = df['Datetime'].dt.quarter\n",
    "df.head()"
   ]
  },
  {
   "cell_type": "markdown",
   "id": "932fe4da",
   "metadata": {},
   "source": [
    "resampling the data into monthly for visual interpretation"
   ]
  },
  {
   "cell_type": "code",
   "execution_count": 55,
   "id": "0184eb39",
   "metadata": {},
   "outputs": [
    {
     "data": {
      "text/html": [
       "<div>\n",
       "<style scoped>\n",
       "    .dataframe tbody tr th:only-of-type {\n",
       "        vertical-align: middle;\n",
       "    }\n",
       "\n",
       "    .dataframe tbody tr th {\n",
       "        vertical-align: top;\n",
       "    }\n",
       "\n",
       "    .dataframe thead th {\n",
       "        text-align: right;\n",
       "    }\n",
       "</style>\n",
       "<table border=\"1\" class=\"dataframe\">\n",
       "  <thead>\n",
       "    <tr style=\"text-align: right;\">\n",
       "      <th></th>\n",
       "      <th>MonthlyAverage</th>\n",
       "    </tr>\n",
       "    <tr>\n",
       "      <th>Datetime</th>\n",
       "      <th></th>\n",
       "    </tr>\n",
       "  </thead>\n",
       "  <tbody>\n",
       "    <tr>\n",
       "      <th>2021-12-31</th>\n",
       "      <td>4837.203125</td>\n",
       "    </tr>\n",
       "    <tr>\n",
       "      <th>2022-01-31</th>\n",
       "      <td>4752.505208</td>\n",
       "    </tr>\n",
       "    <tr>\n",
       "      <th>2022-02-28</th>\n",
       "      <td>4941.677976</td>\n",
       "    </tr>\n",
       "    <tr>\n",
       "      <th>2022-03-31</th>\n",
       "      <td>4615.562012</td>\n",
       "    </tr>\n",
       "    <tr>\n",
       "      <th>2022-04-30</th>\n",
       "      <td>4605.015325</td>\n",
       "    </tr>\n",
       "  </tbody>\n",
       "</table>\n",
       "</div>"
      ],
      "text/plain": [
       "            MonthlyAverage\n",
       "Datetime                  \n",
       "2021-12-31     4837.203125\n",
       "2022-01-31     4752.505208\n",
       "2022-02-28     4941.677976\n",
       "2022-03-31     4615.562012\n",
       "2022-04-30     4605.015325"
      ]
     },
     "execution_count": 55,
     "metadata": {},
     "output_type": "execute_result"
    }
   ],
   "source": [
    "# average_monthly_format\n",
    "# df = pd.read_csv(\"_eir_dataset/thesis_data.csv\", parse_dates=[\"Date\"], index_col=\"Datetime\")\n",
    "\n",
    "df = df.resample('M').mean().rename(columns = {'AG_MW' : 'MonthlyAverage'} )\n",
    "# df['Quater'] = df['Quater'].astype(int)\n",
    "df.head()"
   ]
  },
  {
   "cell_type": "markdown",
   "id": "fdefd740",
   "metadata": {},
   "source": [
    "# display monthly average consumption of electricity"
   ]
  },
  {
   "cell_type": "code",
   "execution_count": 56,
   "id": "355fec6f",
   "metadata": {},
   "outputs": [
    {
     "data": {
      "image/png": "[encoded data removed]",
      "text/plain": [
       "<Figure size 432x288 with 1 Axes>"
      ]
     },
     "metadata": {
      "needs_background": "light"
     },
     "output_type": "display_data"
    }
   ],
   "source": [
    "axis = sns.lineplot(data=df, x='Datetime', y='MonthlyAverage' )\n",
    "plt.xlabel('Datetime')\n",
    "plt.ylabel('Monthly average consumption of Electricity in mega watts')\n",
    "plt.title(\"Monthly average consumption of electricity\", fontsize=14)\n",
    "plt.show()"
   ]
  },
  {
   "cell_type": "markdown",
   "id": "f42d913d",
   "metadata": {},
   "source": [
    "# Lag Plot\n",
    "\n",
    "A lag plot is used to observe the underlying properties of a timeseries. It's a type of scatter plot where a set of data from time step y(t+i) , with time t and lag i, is plotted against data from a later time step y(t). The pattern in a lag plot will show if the timeseries data is\n",
    "# random, sinusoidal, autocorrelates, or contains outliers.\n",
    "These patterns also provide information on suitable models for the data."
   ]
  },
  {
   "cell_type": "code",
   "execution_count": 60,
   "id": "f07e21ea",
   "metadata": {},
   "outputs": [],
   "source": [
    "# plt.figure(figsize=(12,12))\n",
    "\n",
    "# for i in range(1, 10):\n",
    "#     ax=plt.subplot(3, 3, i)\n",
    "#     # Create a lag plot for each quarter\n",
    "# #     pd.plotting.lag_plot(df.loc[df['Quater'] == 1, 'MonthlyAverage'], lag=i, c='firebrick', label='Q1')    \n",
    "# #     pd.plotting.lag_plot(df.loc[df['Quater'] == 2, 'MonthlyAverage'], lag=i, c='olive', label='Q2')\n",
    "# #     pd.plotting.lag_plot(df.loc[df['Quater'] == 3, 'MonthlyAverage'], lag=i, c='navy', label='Q3')\n",
    "# #     pd.plotting.lag_plot(df.loc[df['Quater'] == 4, 'MonthlyAverage'], lag=i, c='gold', label='Q4')\n",
    "#     ax.yaxis.set_major_formatter(ticker.StrMethodFormatter('{x:,.0f}'))\n",
    "#     ax.xaxis.set_major_formatter(ticker.StrMethodFormatter('{x:,.0f}'))\n",
    "#     plt.legend()\n",
    "#     plt.title(f'Lag {i}')\n",
    "\n",
    "# plt.tight_layout()\n",
    "# plt.show()"
   ]
  },
  {
   "cell_type": "markdown",
   "id": "944aabde",
   "metadata": {},
   "source": [
    "The positive linear relationship in lags 3, 6, and 9 demonstrates autocorrelation at regular intervals. This suggests that the data has seasonality (non-stationary) and rules out randomness. We can further verify this with an autocorrelation plot."
   ]
  },
  {
   "cell_type": "markdown",
   "id": "e975303e",
   "metadata": {},
   "source": [
    "# Auto correlation Plot\n",
    "\n",
    "The autocorrelation plot is similar to the lag plot in that it also checks for randomness in the timeseries. Autocorrelations are calculated for the data at different lags. A completely random timeseries will show autocorrelations near zero for all lags."
   ]
  },
  {
   "cell_type": "code",
   "execution_count": 61,
   "id": "cb01f969",
   "metadata": {},
   "outputs": [
    {
     "data": {
      "image/png": "[encoded data removed]",
      "text/plain": [
       "<Figure size 432x288 with 1 Axes>"
      ]
     },
     "metadata": {
      "needs_background": "light"
     },
     "output_type": "display_data"
    }
   ],
   "source": [
    "# Select a multiple of the seasonal frequency for the number of lags\n",
    "plot_acf(df['MonthlyAverage'])\n",
    "plt.xlabel('Lags')\n",
    "plt.tight_layout()\n",
    "plt.show()"
   ]
  },
  {
   "cell_type": "markdown",
   "id": "c16346e2",
   "metadata": {},
   "source": [
    "The plot shows some significant non-zero autocorrelations. We see an oscillation of negative and positive correlation values. A closer look reveals large autocorrelations at multiples of the seasonal frequency (3). This is another indicator of seasonality."
   ]
  },
  {
   "cell_type": "markdown",
   "id": "3c9ad7ae",
   "metadata": {},
   "source": [
    "# Partial Autocorrelation Plot\n",
    "\n",
    "Partial autocorrelation is also a calculation for data at different lags, but with indirect correlations removed. This plot can be used to specify a regression model for the timeseries. The first autocorrelations are typically the most significant for analysis."
   ]
  },
  {
   "cell_type": "code",
   "execution_count": 63,
   "id": "643e0886",
   "metadata": {},
   "outputs": [],
   "source": [
    "# plot_pacf(df['MonthlyAverage'])\n",
    "# plt.xlabel('Lags')\n",
    "# plt.tight_layout()\n",
    "# plt.show()"
   ]
  },
  {
   "cell_type": "markdown",
   "id": "fbf51919",
   "metadata": {},
   "source": [
    "As displayed above the partial autocorrelation shows only the direct relationship between a timstep and its lag. The indirect relations are less significant and fall closer to zero.\n",
    "\n",
    "When deciding on a regression model, the timeseries will need to undergo a transformation known as differencing to remove any seasonality or trend. This will make the data stationary (no trend or seasonality) and better suited for modeling."
   ]
  },
  {
   "cell_type": "markdown",
   "id": "d0cb5844",
   "metadata": {},
   "source": [
    "# Kwiatkowski-Phillips-Schmidt-Shin Test\n",
    "\n",
    "The Kwiatkowski-Phillips-Schmidt-Shin Test (KPSS) checks for the stationarity of a timeseries by testing the null hypothesis that the data is stationary about a trend. A p-value above 0.05 indicates the data is trend-stationary. We'll set up metric tables for our differenced data and view the results."
   ]
  },
  {
   "cell_type": "code",
   "execution_count": 64,
   "id": "3fd93bed",
   "metadata": {},
   "outputs": [],
   "source": [
    "def kpss_test(timeseries):\n",
    "    # Create a metrics table for kpss test\n",
    "    print('KPSS Metrics:')    \n",
    "    kpsstest = kpss(timeseries, regression='c', nlags='auto')\n",
    "    kpss_output = pd.Series(\n",
    "        kpsstest[0:3], \n",
    "        index = ['Test Statistic', \n",
    "               'p-Value', \n",
    "               'Number of Lags'\n",
    "        ]\n",
    "    )\n",
    "    \n",
    "    for key, value in kpsstest[3].items():\n",
    "        kpss_output[f'Critical Value ({key})'] = value\n",
    "    \n",
    "    return kpss_output"
   ]
  },
  {
   "cell_type": "code",
   "execution_count": 65,
   "id": "652795cc",
   "metadata": {},
   "outputs": [
    {
     "name": "stdout",
     "output_type": "stream",
     "text": [
      "KPSS Metrics:\n"
     ]
    },
    {
     "name": "stderr",
     "output_type": "stream",
     "text": [
      "C:\\Users\\HP\\anaconda3\\lib\\site-packages\\statsmodels\\tsa\\stattools.py:1910: InterpolationWarning: The test statistic is outside of the range of p-values available in the\n",
      "look-up table. The actual p-value is greater than the p-value returned.\n",
      "\n",
      "  warnings.warn(\n"
     ]
    },
    {
     "data": {
      "text/plain": [
       "Test Statistic           0.178888\n",
       "p-Value                  0.100000\n",
       "Number of Lags           2.000000\n",
       "Critical Value (10%)     0.347000\n",
       "Critical Value (5%)      0.463000\n",
       "Critical Value (2.5%)    0.574000\n",
       "Critical Value (1%)      0.739000\n",
       "dtype: float64"
      ]
     },
     "execution_count": 65,
     "metadata": {},
     "output_type": "execute_result"
    }
   ],
   "source": [
    "diff = df['MonthlyAverage'].diff(1).dropna()\n",
    "# diff.head()\n",
    "\n",
    "kpss_test(diff)"
   ]
  },
  {
   "cell_type": "markdown",
   "id": "51909c70",
   "metadata": {},
   "source": [
    "The large p-value is above 0.05, which means our differenced data is trend-stationary. The null hypothesis is accepted."
   ]
  },
  {
   "cell_type": "markdown",
   "id": "20380c07",
   "metadata": {},
   "source": [
    "# Augmented Dickey-Fuller Test\n",
    "\n",
    "The second of our stationarity tests is the Augmented Dickey-Fuller (ADF) Test. This test assumes the data is non-stationary as the null hypothesis. A p-value below 0.05 indicates a stationary timeseries. This is opposite the KPSS test so care must be taken when making conclusions."
   ]
  },
  {
   "cell_type": "code",
   "execution_count": 66,
   "id": "556c99c8",
   "metadata": {},
   "outputs": [],
   "source": [
    "def adf_test(timeseries):\n",
    "    # Create a metrics table for adf test\n",
    "    print('Dickey-Fuller Metrics:')    \n",
    "    adftest = adfuller(timeseries, autolag='AIC')\n",
    "    adfoutput = pd.Series(\n",
    "        adftest[0:4],\n",
    "        index = [\n",
    "            'Test Statistic',\n",
    "            'p-Value',\n",
    "            'Number of Lags',\n",
    "            'Number of Observations'\n",
    "        ]\n",
    "    )\n",
    "    \n",
    "    for key, value in adftest[4].items():\n",
    "        adfoutput[f'Critical Value ({key})'] = value\n",
    "    \n",
    "    return adfoutput"
   ]
  },
  {
   "cell_type": "code",
   "execution_count": 67,
   "id": "909190cf",
   "metadata": {},
   "outputs": [
    {
     "name": "stdout",
     "output_type": "stream",
     "text": [
      "Dickey-Fuller Metrics:\n"
     ]
    },
    {
     "data": {
      "text/plain": [
       "Test Statistic            -3.573080\n",
       "p-Value                    0.006297\n",
       "Number of Lags             0.000000\n",
       "Number of Observations    10.000000\n",
       "Critical Value (1%)       -4.331573\n",
       "Critical Value (5%)       -3.232950\n",
       "Critical Value (10%)      -2.748700\n",
       "dtype: float64"
      ]
     },
     "execution_count": 67,
     "metadata": {},
     "output_type": "execute_result"
    }
   ],
   "source": [
    "adf_test(diff)"
   ]
  },
  {
   "cell_type": "markdown",
   "id": "2fdaefdc",
   "metadata": {},
   "source": [
    "Here we see the small p-value is below 0.05 so the null hypothesis is rejected. Both ADF and KPSS tests verify that the data is stationary so a second-order differencing is not needed."
   ]
  },
  {
   "cell_type": "markdown",
   "id": "290cd5f6",
   "metadata": {},
   "source": [
    "# Seasonal Plotting"
   ]
  },
  {
   "cell_type": "markdown",
   "id": "4d37294e",
   "metadata": {},
   "source": [
    "Quater Plotting"
   ]
  },
  {
   "cell_type": "code",
   "execution_count": 70,
   "id": "ba76c71a",
   "metadata": {},
   "outputs": [],
   "source": [
    "# fig, ax = plt.subplots()\n",
    "# sns.lineplot(ax=ax, data=df, x='SM', y='MonthlyAverage', ci=95)\n",
    "# ax.yaxis.set_major_formatter(ticker.StrMethodFormatter('{x:,.0f}'))\n",
    "# ax.set_xticks([1,2,3,4])\n",
    "# ax.set_xticklabels(['Q1', 'Q2', 'Q3', 'Q4'])\n",
    "# ax.set_ylabel('Average Energy Consumption in Mega Watts')\n",
    "# ax.set_xlabel('Seasonal Quarter')\n",
    "# ax.set_title('Avg Electricity Consumption')\n",
    "# plt.show()"
   ]
  },
  {
   "cell_type": "markdown",
   "id": "d8a8ce6f",
   "metadata": {},
   "source": [
    "Month Wise Plotting"
   ]
  },
  {
   "cell_type": "code",
   "execution_count": 74,
   "id": "4e1d2bbd",
   "metadata": {},
   "outputs": [
    {
     "data": {
      "image/png": "[encoded data removed]",
      "text/plain": [
       "<Figure size 432x288 with 1 Axes>"
      ]
     },
     "metadata": {
      "needs_background": "light"
     },
     "output_type": "display_data"
    }
   ],
   "source": [
    "fig, ax = plt.subplots()\n",
    "month_plot(df['MonthlyAverage'], ax=ax)\n",
    "ax.yaxis.set_major_formatter(ticker.StrMethodFormatter('{x:,.0f}'))\n",
    "plt.title('Monthly Average Electricity Energy Consumption')\n",
    "plt.ylabel('Average Electricity Consumption in Mega Watts')\n",
    "plt.show()"
   ]
  },
  {
   "cell_type": "markdown",
   "id": "c67bc427",
   "metadata": {},
   "source": [
    "We can see that February is the month where peak average energy usage occurs. December, January sees the highest usage out of the winter months, and the lowest points are in April and October to november. Overall, this is a close reflection of the pattern observed in the quarter plot."
   ]
  },
  {
   "cell_type": "code",
   "execution_count": null,
   "id": "b3a325c4",
   "metadata": {},
   "outputs": [],
   "source": []
  }
 ],
 "metadata": {
  "kernelspec": {
   "display_name": "Python 3",
   "language": "python",
   "name": "python3"
  },
  "language_info": {
   "codemirror_mode": {
    "name": "ipython",
    "version": 3
   },
   "file_extension": ".py",
   "mimetype": "text/x-python",
   "name": "python",
   "nbconvert_exporter": "python",
   "pygments_lexer": "ipython3",
   "version": "3.8.8"
  }
 },
 "nbformat": 4,
 "nbformat_minor": 5
}
